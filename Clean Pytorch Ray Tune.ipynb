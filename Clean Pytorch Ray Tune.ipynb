{
 "cells": [
  {
   "cell_type": "code",
   "execution_count": null,
   "id": "5ebf8167",
   "metadata": {},
   "outputs": [],
   "source": [
    "import torch\n",
    "import yfinance as yf\n",
    "import pandas as pd\n",
    "import os\n",
    "import requests\n",
    "import datetime\n",
    "import ray\n",
    "from ray import tune, air\n",
    "\n",
    "import sys\n",
    "sys.path.append('./data')\n",
    "sys.path.append('./training')\n",
    "import data, training\n",
    "\n",
    "\n",
    "torch.cuda.is_available()"
   ]
  },
  {
   "cell_type": "code",
   "execution_count": null,
   "id": "86b35134",
   "metadata": {},
   "outputs": [],
   "source": [
    "BATCH_SIZE=96\n",
    "WINDOW_SIZE=32\n",
    "NUM_WORKERS=6\n",
    "N_FEATURES=1\n",
    "DEVICE = 'cuda' if torch.cuda.is_available() else 'cpu'\n",
    "N_TRIES=8 # Increase to try a larger search space"
   ]
  },
  {
   "cell_type": "code",
   "execution_count": null,
   "id": "5e855c35",
   "metadata": {},
   "outputs": [],
   "source": [
    "ray.init(num_cpus=int(os.cpu_count() * .75), num_gpus=1)"
   ]
  },
  {
   "cell_type": "code",
   "execution_count": null,
   "id": "3e3392a4",
   "metadata": {},
   "outputs": [],
   "source": [
    "# Need to go requests route to avoid forbidden error\n",
    "url = 'https://stockanalysis.com/list/biggest-companies/'\n",
    "\n",
    "header = {\n",
    "  \"User-Agent\": \"Mozilla/5.0 (X11; Linux x86_64) AppleWebKit/537.36 (KHTML, like Gecko) Chrome/50.0.2661.75 Safari/537.36\",\n",
    "  \"X-Requested-With\": \"XMLHttpRequest\"\n",
    "}\n",
    "\n",
    "r = requests.get(url, headers=header)\n",
    "\n",
    "dfs = pd.read_html(r.text)\n",
    "\n",
    "symbols = list(dfs[0]['Symbol'].iloc[:25].values)"
   ]
  },
  {
   "cell_type": "code",
   "execution_count": null,
   "id": "ebbc5072",
   "metadata": {},
   "outputs": [],
   "source": [
    "# Maximum number of days for YFinance 5m data is 60, but it only takes 59 day diff\n",
    "end_date = datetime.date.today() \n",
    "start_date = end_date - datetime.timedelta(days=59)\n",
    "\n",
    "dataset = yf.download(\n",
    "    symbols,\n",
    "    period='max', \n",
    "    interval='5m',\n",
    "    start=start_date, \n",
    "    end=end_date\n",
    ")['Adj Close']\n",
    "\n",
    "train, val = data.get_train_val_dicts(dataset)"
   ]
  },
  {
   "cell_type": "code",
   "execution_count": null,
   "id": "cc9967f2",
   "metadata": {},
   "outputs": [],
   "source": [
    "config = {\n",
    "    'device': DEVICE,\n",
    "    'D_MODEL': tune.choice([32, 64]),\n",
    "    'N_HEADS': tune.choice([2, 8]),\n",
    "    'D_FF': tune.choice([128, 256]),\n",
    "    'DROPOUT': tune.choice([0., .05, .1, .15]),\n",
    "    'ACTIVATION': tune.choice(['relu', 'gelu']),\n",
    "    'NUM_LAYERS': tune.choice([3, 5]),\n",
    "    'LR': tune.choice([1e-3, 1e-4, 1e-5]),\n",
    "    'WINDOW_SIZE': tune.choice([32, 64])\n",
    "}\n",
    "param_space = {'train_loop_config': config}"
   ]
  },
  {
   "cell_type": "code",
   "execution_count": null,
   "id": "c3df8460",
   "metadata": {},
   "outputs": [],
   "source": [
    "trainer, tune_config = training.setup_ray(train, val, BATCH_SIZE, param_space, n_tries=N_TRIES)\n",
    "\n",
    "tuner = tune.Tuner(\n",
    "    trainer,\n",
    "    run_config=air.RunConfig(\n",
    "        local_dir=\"./tfmr_logger/\",\n",
    "    ),\n",
    "    tune_config=tune_config,\n",
    ")\n",
    "\n",
    "result = tuner.fit()"
   ]
  }
 ],
 "metadata": {
  "kernelspec": {
   "display_name": "Python 3 (ipykernel)",
   "language": "python",
   "name": "python3"
  },
  "language_info": {
   "codemirror_mode": {
    "name": "ipython",
    "version": 3
   },
   "file_extension": ".py",
   "mimetype": "text/x-python",
   "name": "python",
   "nbconvert_exporter": "python",
   "pygments_lexer": "ipython3",
   "version": "3.10.6"
  }
 },
 "nbformat": 4,
 "nbformat_minor": 5
}
